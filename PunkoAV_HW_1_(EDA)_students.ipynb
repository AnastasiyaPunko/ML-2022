{
  "nbformat": 4,
  "nbformat_minor": 0,
  "metadata": {
    "colab": {
      "provenance": [],
      "collapsed_sections": [
        "L9kY6viVwbME",
        "z82l8gRoEWKO",
        "h-BYmXgA9i4s",
        "XY5wTG7UKL4_",
        "nye_WquOkBRs",
        "wcezuyy-OVXW",
        "2o_KxUf2lon1",
        "3XDt314Pk-nq"
      ],
      "include_colab_link": true
    },
    "kernelspec": {
      "name": "python3",
      "display_name": "Python 3"
    },
    "language_info": {
      "name": "python"
    }
  },
  "cells": [
    {
      "cell_type": "markdown",
      "metadata": {
        "id": "view-in-github",
        "colab_type": "text"
      },
      "source": [
        "<a href=\"https://colab.research.google.com/github/AnastasiyaPunko/ML-2022/blob/main/PunkoAV_HW_1_(EDA)_students.ipynb\" target=\"_parent\"><img src=\"https://colab.research.google.com/assets/colab-badge.svg\" alt=\"Open In Colab\"/></a>"
      ]
    },
    {
      "cell_type": "markdown",
      "source": [
        "This homework will:\n",
        "* Remind you how to ~google~ learn and navigate in previously unknown topics\n",
        "* Show you how to create paper-ready plots in Python\n",
        "* Sharpen your skills in data analysis and making educated guesses\n",
        "\n",
        "As mentioned earlier, we expect you to be familiar with Python's trivial syntax, idioms, and constructs, or learn them on the fly.\n",
        "\n",
        "**Notes:**\n",
        "* We will be using matplotlib as our main graphics library. If for any reason you don't like this package feel free to use other solutions.\n",
        "* Submit your homework as a link to a Colab notebook. Share (right corner) -> Anyone with link -> Copy link.\n",
        "* Write answers directly in the Colab, a link to colab is the only form of a report.\n",
        "* *After each section, question or assignment, there is a label with the maximum points you can earn. The maximum score for HW is 10, but you **don't** have to do everything. Remember, in HSE 8 is also an excellent result.\n",
        "* The code in each cell is just a recommendation. Feel free to write your own implementation that does the same, or follow hints that I left for you.\n",
        "* Better to write at least some answers, then skip the homework completely.\n",
        "* Remember, brevity is the soul of wit.\n",
        "* If you copy your friend's answers, that's bad, but we can't reliably control it. At the very least understand each line of code and retype it yourself with a different structure. **Direct or naive plagiarism will be punished according to the HSE rules.**\n",
        "\n",
        "Don't forget to submit the feedback! Especially if the homework was too difficult or easy for you."
      ],
      "metadata": {
        "id": "PuQQtL_5-iTY"
      }
    },
    {
      "cell_type": "markdown",
      "source": [
        "## Introduction [2]\n",
        "\n",
        "Today we will work with RNA sequencing data (RNA-seq), the workhorse of modern transcriptome research.\n",
        "\n",
        "Below we provide a ***short*** introduction to RNA biology and RNA sequencing experiments. This is not exhaustive, but you are expected to be curious, google, and discuss unknown/unclear points in the group. If something cannot be solved ~by the collective mind~ - feel free to write to me or ask questions at the next lesson.\n",
        "\n",
        "For those interested, here is a list [list](https://github.com/crazyhottommy/RNA-seq-analysis) with additional resources.\n",
        "\n",
        "\n",
        "\n",
        "---\n",
        "\n",
        "\n",
        "\n",
        "---\n",
        "\n"
      ],
      "metadata": {
        "id": "L9kY6viVwbME"
      }
    },
    {
      "cell_type": "markdown",
      "source": [
        "### Molecular biology primer\n",
        "\n",
        "There are three main molecules inside the cell:\n",
        "* DNA - where the genetic information is stored. In humans, DNA is stored exclusively in the *nucleus*.\n",
        "* RNA - that is used to transfer information from the *DNA* (nucleus) to the *cytoplasm*. DNA is *transcribed* to create RNA. \n",
        "* Proteins are the molecules that do most of the work inside the cell. They are synthesized in the *cytoplasm* on the basis of RNA, this process is known as *translation*.\n",
        "\n",
        "That is, the ***main*** flow of genetic information is \n",
        "```DNA -> transcription -> RNA -> translation -> proteins```.\n",
        "This is called the central dogma of molecular biology. [Youtube](https://www.youtube.com/results?search_query=central+dogma+of+molecular+biology). \n",
        "\n",
        "We can think of DNA, RNA, and proteins as simple sequences of either nucleic acids or amino acids. In most cases this simplification is sufficient, but keep in mind that DNA/RNA/proteins also have a high level 3D structure that will affect their biological role (and this structure is context dependent and in most cases unknown).\n",
        "\n",
        "How do cells react to external stimulation? What is the difference between cells of different tissues of the same organism? The answers lie in a set of active genes.That is, genes (=regions of DNA) that are transcribed into RNA and then translated into proteins.\n",
        "\n",
        "Obviously, biologists are very interested in proteins that are active inside the cell. However, for technical reasons, a direct and reliable study of the cell proteome is impossible. Instead, researchers focus on the previous step, RNA abundance, the total number of RNA copies for a given gene (or its relative concentration).\n",
        "\n",
        "State-of-the-art technology to measure RNA abundance is called RNA-seq. It consists of two main steps: (1) isolation of RNA from cells of interest (cancer, tissues, cell lines) and (2) *sequencing* of the RNA. Sequencing is the process of determining the RNA sequences in a given sample. Once the RNAs are sequenced, they can be assigned to genes of origin to assess overall gene expression (also known as activity).\n",
        "\n",
        "Important remarks: \n",
        "* RNA-seq measures the concentration of RNA in a group of cells (i.e. it is the average of the entire population)\n",
        "* We assume that the amount of RNA correlates with the production of a given protein. \n",
        "\n",
        "Both assumptions are somewhat weak in practice, but sufficient for high-level forecasts.\n",
        "\n",
        "On your molecular biology & bioinformatics classes you wil find that the above picture is a great simplification. However, this will be enough for our purposes."
      ],
      "metadata": {
        "id": "vvnx2ZkMHVkm"
      }
    },
    {
      "cell_type": "markdown",
      "source": [
        "### Data format\n",
        "\n",
        "We can **assume** that the result of the RNA-seq experiment is a simple table like this:\n",
        "\n",
        "|        | Sample 1 | .... | Sample N |\n",
        "|--------|----------|------|----------|\n",
        "| Gene 1 | 35       |      | 897      |\n",
        "| ....   |          |      |          |\n",
        "| Gene N | 0        |      | 760      |\n",
        "\n",
        "And the values ​​in each cell indicate the estimated normalized expression of the gene in this sample. This is not a direct number of RNA copies, but a normalized value strongly correlated with it.\n",
        "\n",
        "For those interested, the normalization of RNA-seq experiments is a very complex topic. We will use TPM values ​​and trust that all basic assumptions remain valid."
      ],
      "metadata": {
        "id": "p67Uqek7EG88"
      }
    },
    {
      "cell_type": "markdown",
      "source": [
        "### Questions\n",
        "* [0.25] Why do we use RNA sequencing but don't measure proteins directly? Provide a brief **high-level** description of the major technical reasons.\n",
        "\n",
        "→ RNA-Seq provides comprehensive information on mRNA abundance, alternative splicing, nucleotide variation and structure alteration. RNA-seq allows for outstanding dynamic range, with detection of low expressed transcripts alongside with those expressed at high levels. RNA-seq not only can accurately measure the abundance of transcripts, but also can detect sequence variations at the same time, thus providing a more complete view of the transcriptome. Also there is a problem related to the amount of starting material, you need enough protein to bring the signal above that noise. There is an error rate with RNA-seq, but it is generally on level of individual nucleotides. \n",
        "\n",
        "* [0.25] Why might RNA-seq be a poor indicator of protein abundance?\n",
        "\n",
        "→ At the quantitative level, mRNA and protein levels are only modestly correlated, suggesting strong involvement of post-transcriptional regulation in controlling gene expression. Studies comparing either steady state mRNA and protein abundance or their alteration in response to perturbations have found that mRNA levels only explain less than half of the variability in protein levels, suggesting that protein abundance is controlled not only by regulating mRNA abundance, but also by mechanisms that affect other steps of protein metabolism, such as protein translation and degradation. \n",
        "\n",
        "* [0.25] Give four examples where the transcribed RNA is directly involved in some biological process (i.e., it functions without translation, which violates the central dogma). Give a brief explanation for each example (1 sentence).\n",
        "\n",
        "→ 1)tRNA  is a type of RNA molecule that helps decode a mRNA sequence into a protein. \n",
        "2)miRNA is a small single-stranded non-coding RNA molecule, that functions in RNA silencing and post-transcriptional regulation of gene expression.\n",
        "3)siRNA is a class of double-stranded non-coding RNA molecules, operating within the RNA interference pathway.\n",
        "4)Xist is a non-coding RNA on the X chromosome of the placental mammals that acts as a major effector of the X-inactivation process.\n",
        "\n",
        "* [0.25] What kinds of analyzes can we perform using RNA sequencing data? Describe any two of them in detail.\n",
        "\n",
        "→ RNA‐seq can be a tool to measure gene expression, detect novel transcripts, characterize transcript isoforms, identify sequence polymorphisms, and sequencing rRNA, tRNA, long ncRNA  and many smaller ncRNAs. 1)Alternative splicing has been shown to play an important role in normal cellular processes as well as a wide range of pathogenic processes underlying many different diseases. In addition, the results of GWAS focusing on common chronic conditions have identified a number of disease-associated variants that influence splicing, suggesting a role for alternative splicing in mediating many common diseases. Furthermore, highly penetrant variants that affect splicing have been classified as pathogenic in a number of monogenic disorders. \n",
        "2)16S rRNA sequencing is commonly used for identification, classification and quantitation of microbes within complex biological mixtures such as environmental samples and gut samples (ex human gut microbiome). 16S rRNA consists of both conserved and variable regions. While the conserved region makes universal amplification possible, sequencing the variable regions allows discrimination between specific different microorganisms such as bacteria, archaea and microbial eukarya.\n",
        "\n",
        "* [0.25] Imagine that you are studying a group of cells in two conditions. You need to compare their transcriptome between two states and you decide to run RNA sequencing in duplicate (2x2 = 4 samples). What will be the approximate cost of sequencing these samples using the Total RNA-seq protocol in the US? Provide links.\n",
        "\n",
        "→ 299/sample*4=$1196\n",
        "[1](https://www.uth.edu/cgc/price.htm)\n",
        "\n",
        "\n",
        "---\n",
        "\n",
        "\n",
        "\n",
        "---\n",
        "\n",
        "\n",
        "You are expected to search answers online and discuss with your more experienced colleagues. Just remember to understand and explain everything in your own words.\n"
      ],
      "metadata": {
        "id": "m73YdipY8fq1"
      }
    },
    {
      "cell_type": "markdown",
      "source": [
        "# Data preprocessing [1]\n",
        "\n",
        "We are going to use pre-processed RNA-seq data from mouse brain cells with 2 genotypes - wild type (WT) and ADAR1-KO (aka knockout/inactive/disrupted ADAR1 gene).\n",
        "\n",
        "**[0.75] points in this section is for writing code.**"
      ],
      "metadata": {
        "id": "z82l8gRoEWKO"
      }
    },
    {
      "cell_type": "code",
      "source": [
        "# gdown - shell tool to download files from google drive by ID\n",
        "# ! => run shell command instead of python command\n",
        "!gdown 1g05Wfjyxa1eMfpUiHpndFWWNuTikJBlc"
      ],
      "metadata": {
        "colab": {
          "base_uri": "https://localhost:8080/"
        },
        "id": "r2f5QjZ2FWpX",
        "outputId": "5811dbc0-da6b-4611-f9da-a39f7aba3051"
      },
      "execution_count": null,
      "outputs": [
        {
          "output_type": "stream",
          "name": "stdout",
          "text": [
            "Downloading...\n",
            "From: https://drive.google.com/uc?id=1g05Wfjyxa1eMfpUiHpndFWWNuTikJBlc\n",
            "To: /content/HW-1.TPM.tsv.gz\n",
            "\r  0% 0.00/1.15M [00:00<?, ?B/s]\r100% 1.15M/1.15M [00:00<00:00, 97.1MB/s]\n"
          ]
        }
      ]
    },
    {
      "cell_type": "code",
      "source": [
        "import pandas as pd\n",
        "import numpy as np\n",
        "\n",
        "# Load tab separated HW-1.TPM.tsv.gz file, and create a data frame \n",
        "# hint: read_csv with sep\n",
        "df = pd.read_csv(\"/content/HW-1.TPM.tsv.gz\", sep='\\t')\n",
        "\n",
        "# Show the first 5 rows\n",
        "df.head(n=5)"
      ],
      "metadata": {
        "colab": {
          "base_uri": "https://localhost:8080/",
          "height": 206
        },
        "id": "t1-MBgPtFqj1",
        "outputId": "dd3bfa98-c1fe-4167-ec95-b2bb0df300e2"
      },
      "execution_count": null,
      "outputs": [
        {
          "output_type": "execute_result",
          "data": {
            "text/plain": [
              "              gene_id gene_name       WT 1       WT 2       WT 3  ADAR1-KO 1  \\\n",
              "0  ENSMUSG00000000001     Gnai3  41.497520  36.699438  37.343788   38.061131   \n",
              "1  ENSMUSG00000000003      Pbsn   0.000000   0.000000   0.000000    0.000000   \n",
              "2  ENSMUSG00000000028     Cdc45   1.885241   2.411933   1.662913    2.533332   \n",
              "3  ENSMUSG00000000031       H19   4.660286   2.929563  11.034701    6.114367   \n",
              "4  ENSMUSG00000000037     Scml2   1.008518   1.175329   0.775612    1.114238   \n",
              "\n",
              "   ADAR1-KO 2  ADAR1-KO 3  \n",
              "0   37.586224   32.082841  \n",
              "1    0.000000    0.000000  \n",
              "2    2.380505    2.200205  \n",
              "3   37.147375    3.223032  \n",
              "4    0.891466    0.933327  "
            ],
            "text/html": [
              "\n",
              "  <div id=\"df-c1cfbba1-e537-4bb8-86e7-e03727f330bd\">\n",
              "    <div class=\"colab-df-container\">\n",
              "      <div>\n",
              "<style scoped>\n",
              "    .dataframe tbody tr th:only-of-type {\n",
              "        vertical-align: middle;\n",
              "    }\n",
              "\n",
              "    .dataframe tbody tr th {\n",
              "        vertical-align: top;\n",
              "    }\n",
              "\n",
              "    .dataframe thead th {\n",
              "        text-align: right;\n",
              "    }\n",
              "</style>\n",
              "<table border=\"1\" class=\"dataframe\">\n",
              "  <thead>\n",
              "    <tr style=\"text-align: right;\">\n",
              "      <th></th>\n",
              "      <th>gene_id</th>\n",
              "      <th>gene_name</th>\n",
              "      <th>WT 1</th>\n",
              "      <th>WT 2</th>\n",
              "      <th>WT 3</th>\n",
              "      <th>ADAR1-KO 1</th>\n",
              "      <th>ADAR1-KO 2</th>\n",
              "      <th>ADAR1-KO 3</th>\n",
              "    </tr>\n",
              "  </thead>\n",
              "  <tbody>\n",
              "    <tr>\n",
              "      <th>0</th>\n",
              "      <td>ENSMUSG00000000001</td>\n",
              "      <td>Gnai3</td>\n",
              "      <td>41.497520</td>\n",
              "      <td>36.699438</td>\n",
              "      <td>37.343788</td>\n",
              "      <td>38.061131</td>\n",
              "      <td>37.586224</td>\n",
              "      <td>32.082841</td>\n",
              "    </tr>\n",
              "    <tr>\n",
              "      <th>1</th>\n",
              "      <td>ENSMUSG00000000003</td>\n",
              "      <td>Pbsn</td>\n",
              "      <td>0.000000</td>\n",
              "      <td>0.000000</td>\n",
              "      <td>0.000000</td>\n",
              "      <td>0.000000</td>\n",
              "      <td>0.000000</td>\n",
              "      <td>0.000000</td>\n",
              "    </tr>\n",
              "    <tr>\n",
              "      <th>2</th>\n",
              "      <td>ENSMUSG00000000028</td>\n",
              "      <td>Cdc45</td>\n",
              "      <td>1.885241</td>\n",
              "      <td>2.411933</td>\n",
              "      <td>1.662913</td>\n",
              "      <td>2.533332</td>\n",
              "      <td>2.380505</td>\n",
              "      <td>2.200205</td>\n",
              "    </tr>\n",
              "    <tr>\n",
              "      <th>3</th>\n",
              "      <td>ENSMUSG00000000031</td>\n",
              "      <td>H19</td>\n",
              "      <td>4.660286</td>\n",
              "      <td>2.929563</td>\n",
              "      <td>11.034701</td>\n",
              "      <td>6.114367</td>\n",
              "      <td>37.147375</td>\n",
              "      <td>3.223032</td>\n",
              "    </tr>\n",
              "    <tr>\n",
              "      <th>4</th>\n",
              "      <td>ENSMUSG00000000037</td>\n",
              "      <td>Scml2</td>\n",
              "      <td>1.008518</td>\n",
              "      <td>1.175329</td>\n",
              "      <td>0.775612</td>\n",
              "      <td>1.114238</td>\n",
              "      <td>0.891466</td>\n",
              "      <td>0.933327</td>\n",
              "    </tr>\n",
              "  </tbody>\n",
              "</table>\n",
              "</div>\n",
              "      <button class=\"colab-df-convert\" onclick=\"convertToInteractive('df-c1cfbba1-e537-4bb8-86e7-e03727f330bd')\"\n",
              "              title=\"Convert this dataframe to an interactive table.\"\n",
              "              style=\"display:none;\">\n",
              "        \n",
              "  <svg xmlns=\"http://www.w3.org/2000/svg\" height=\"24px\"viewBox=\"0 0 24 24\"\n",
              "       width=\"24px\">\n",
              "    <path d=\"M0 0h24v24H0V0z\" fill=\"none\"/>\n",
              "    <path d=\"M18.56 5.44l.94 2.06.94-2.06 2.06-.94-2.06-.94-.94-2.06-.94 2.06-2.06.94zm-11 1L8.5 8.5l.94-2.06 2.06-.94-2.06-.94L8.5 2.5l-.94 2.06-2.06.94zm10 10l.94 2.06.94-2.06 2.06-.94-2.06-.94-.94-2.06-.94 2.06-2.06.94z\"/><path d=\"M17.41 7.96l-1.37-1.37c-.4-.4-.92-.59-1.43-.59-.52 0-1.04.2-1.43.59L10.3 9.45l-7.72 7.72c-.78.78-.78 2.05 0 2.83L4 21.41c.39.39.9.59 1.41.59.51 0 1.02-.2 1.41-.59l7.78-7.78 2.81-2.81c.8-.78.8-2.07 0-2.86zM5.41 20L4 18.59l7.72-7.72 1.47 1.35L5.41 20z\"/>\n",
              "  </svg>\n",
              "      </button>\n",
              "      \n",
              "  <style>\n",
              "    .colab-df-container {\n",
              "      display:flex;\n",
              "      flex-wrap:wrap;\n",
              "      gap: 12px;\n",
              "    }\n",
              "\n",
              "    .colab-df-convert {\n",
              "      background-color: #E8F0FE;\n",
              "      border: none;\n",
              "      border-radius: 50%;\n",
              "      cursor: pointer;\n",
              "      display: none;\n",
              "      fill: #1967D2;\n",
              "      height: 32px;\n",
              "      padding: 0 0 0 0;\n",
              "      width: 32px;\n",
              "    }\n",
              "\n",
              "    .colab-df-convert:hover {\n",
              "      background-color: #E2EBFA;\n",
              "      box-shadow: 0px 1px 2px rgba(60, 64, 67, 0.3), 0px 1px 3px 1px rgba(60, 64, 67, 0.15);\n",
              "      fill: #174EA6;\n",
              "    }\n",
              "\n",
              "    [theme=dark] .colab-df-convert {\n",
              "      background-color: #3B4455;\n",
              "      fill: #D2E3FC;\n",
              "    }\n",
              "\n",
              "    [theme=dark] .colab-df-convert:hover {\n",
              "      background-color: #434B5C;\n",
              "      box-shadow: 0px 1px 3px 1px rgba(0, 0, 0, 0.15);\n",
              "      filter: drop-shadow(0px 1px 2px rgba(0, 0, 0, 0.3));\n",
              "      fill: #FFFFFF;\n",
              "    }\n",
              "  </style>\n",
              "\n",
              "      <script>\n",
              "        const buttonEl =\n",
              "          document.querySelector('#df-c1cfbba1-e537-4bb8-86e7-e03727f330bd button.colab-df-convert');\n",
              "        buttonEl.style.display =\n",
              "          google.colab.kernel.accessAllowed ? 'block' : 'none';\n",
              "\n",
              "        async function convertToInteractive(key) {\n",
              "          const element = document.querySelector('#df-c1cfbba1-e537-4bb8-86e7-e03727f330bd');\n",
              "          const dataTable =\n",
              "            await google.colab.kernel.invokeFunction('convertToInteractive',\n",
              "                                                     [key], {});\n",
              "          if (!dataTable) return;\n",
              "\n",
              "          const docLinkHtml = 'Like what you see? Visit the ' +\n",
              "            '<a target=\"_blank\" href=https://colab.research.google.com/notebooks/data_table.ipynb>data table notebook</a>'\n",
              "            + ' to learn more about interactive tables.';\n",
              "          element.innerHTML = '';\n",
              "          dataTable['output_type'] = 'display_data';\n",
              "          await google.colab.output.renderOutput(dataTable, element);\n",
              "          const docLink = document.createElement('div');\n",
              "          docLink.innerHTML = docLinkHtml;\n",
              "          element.appendChild(docLink);\n",
              "        }\n",
              "      </script>\n",
              "    </div>\n",
              "  </div>\n",
              "  "
            ]
          },
          "metadata": {},
          "execution_count": 54
        }
      ]
    },
    {
      "cell_type": "markdown",
      "source": [
        "If this were a completely new project, you must first refine the meaning of each column. In our case:\n",
        "* `gene_id` - gene id from the [Ensembl database](https://ensembl.org/index.html)\n",
        "* `gene_name` - name of the gene\n",
        "* `WT 1/2/3` - estimated expression of the gene in WT samples 1..3\n",
        "* `ADAR1-KO` - estimated expression of the gene in ADAR1-KO samples"
      ],
      "metadata": {
        "id": "QA4dFHn7GL3y"
      }
    },
    {
      "cell_type": "markdown",
      "source": [
        "[0.1] What is the function of this protein, ADAR1? Check its [gene card](https://www.genecards.org/cgi-bin/carddisp.pl?gene=ADAR) and provide a short summary (1-2 sentences)\n",
        "\n",
        "→ ADAR1 responsible for RNA editing by site-specific deamination of adenosines (A-to-I RNA editing). This enzyme destabilizes double-stranded RNA through conversion of adenosine to inosine. \n",
        "This may affect gene expression and function in a number of ways that include mRNA translation; pre-mRNA splicing; RNA stability; genetic stability in the case of RNA virus genomes; and RNA structure-dependent activities such as microRNA production or targeting or protein-RNA interactions."
      ],
      "metadata": {
        "id": "pnH1Nu0WIcc2"
      }
    },
    {
      "cell_type": "markdown",
      "source": [
        "Before continuing, we also need to check that the numeric columns have been parsed correctly and that we don't have any missing values."
      ],
      "metadata": {
        "id": "gLxteLSMIkNr"
      }
    },
    {
      "cell_type": "code",
      "source": [
        "# Print dtypes and make sure that all expression columns are float64\n",
        "df.dtypes"
      ],
      "metadata": {
        "colab": {
          "base_uri": "https://localhost:8080/"
        },
        "id": "fH6i_9fEFqs3",
        "outputId": "878689fd-0f48-4a89-a43c-e5ffd4ad6e10"
      },
      "execution_count": null,
      "outputs": [
        {
          "output_type": "execute_result",
          "data": {
            "text/plain": [
              "gene_id        object\n",
              "gene_name      object\n",
              "WT 1          float64\n",
              "WT 2          float64\n",
              "WT 3          float64\n",
              "ADAR1-KO 1    float64\n",
              "ADAR1-KO 2    float64\n",
              "ADAR1-KO 3    float64\n",
              "dtype: object"
            ]
          },
          "metadata": {},
          "execution_count": 55
        }
      ]
    },
    {
      "cell_type": "code",
      "source": [
        "# Check that we don't have missing values\n",
        "# hint: isna with sum\n",
        "isna = df.isna().sum()\n",
        "totalna = sum(isna)\n",
        "print(\"Total NA cells: \", totalna)\n",
        "\n",
        "# Assert that its actually 0 and provide some message if it's not\n",
        "assert totalna == 0, print('We have missing values!')"
      ],
      "metadata": {
        "colab": {
          "base_uri": "https://localhost:8080/"
        },
        "id": "Z8e_ZSh1I3vr",
        "outputId": "f5414ae3-14cc-495b-a2ed-139650f20fd0"
      },
      "execution_count": null,
      "outputs": [
        {
          "output_type": "stream",
          "name": "stdout",
          "text": [
            "Total NA cells:  0\n"
          ]
        }
      ]
    },
    {
      "cell_type": "markdown",
      "source": [
        "The values ​​of the normalized expression in this dataset cannot be less than 0. Let's check if it's true:"
      ],
      "metadata": {
        "id": "kguNX42DM4Lh"
      }
    },
    {
      "cell_type": "code",
      "source": [
        "# Select numerical columns\n",
        "# hint: select_dtypes\n",
        "numcols = df.select_dtypes(include=np.number).columns\n",
        "# Assert that the total number of values < 0 is 0\n",
        "assert (df[numcols] < 0).any().sum() == 0, \\\n",
        "  \"All RNA abundance estimates must be > 0\""
      ],
      "metadata": {
        "id": "NriHy9vKNBB5"
      },
      "execution_count": null,
      "outputs": []
    },
    {
      "cell_type": "markdown",
      "source": [
        "Now let's drop genes that are barely expressed:"
      ],
      "metadata": {
        "id": "oWXhsYIkJy1N"
      }
    },
    {
      "cell_type": "code",
      "source": [
        "# Calculate non-zero quantiles for each expression column\n",
        "qthr = 0.01\n",
        "quantiles = []\n",
        "for col in df[numcols]:\n",
        "  series = df[col]\n",
        "  # Select non zero values\n",
        "  series = series[series!=0]   \n",
        "  # Calculate quantiles\n",
        "  q = series.quantile(qthr)\n",
        "\n",
        "  quantiles.append(q)\n",
        "\n",
        "# Print results\n",
        "for col, q in zip(numcols, quantiles):\n",
        "  print(df[col].name,'<-',q)\n",
        "\n",
        "  # assert that quantile is not zero\n",
        "assert q > 0, \"We have zero quantile\""
      ],
      "metadata": {
        "colab": {
          "base_uri": "https://localhost:8080/"
        },
        "id": "FfEbIRZxJeg7",
        "outputId": "2ec033b9-0bd5-4ed4-8983-a362cd23bd3b"
      },
      "execution_count": null,
      "outputs": [
        {
          "output_type": "stream",
          "name": "stdout",
          "text": [
            "WT 1 <- 0.01082312\n",
            "WT 2 <- 0.01019045\n",
            "WT 3 <- 0.01016553\n",
            "ADAR1-KO 1 <- 0.01011308\n",
            "ADAR1-KO 2 <- 0.00947186\n",
            "ADAR1-KO 3 <- 0.011762540000000002\n"
          ]
        }
      ]
    },
    {
      "cell_type": "code",
      "source": [
        "# As a threshold we will use a min quantile\n",
        "threshold = 0.00947186\n",
        "\n",
        "print(\"Genes before\", df.shape[0])\n",
        "\n",
        "# We will drop all columns, \n",
        "# where the expression is below the threshold in all samples\n",
        "mask = (df[numcols] >= threshold).any(axis=1)\n",
        "df = df[mask]\n",
        "\n",
        "print(\"Genes after\", df.shape[0])"
      ],
      "metadata": {
        "colab": {
          "base_uri": "https://localhost:8080/"
        },
        "id": "T-07adeYCcIq",
        "outputId": "e9b18cbf-c59f-4033-db66-f794f8a29953"
      },
      "execution_count": null,
      "outputs": [
        {
          "output_type": "stream",
          "name": "stdout",
          "text": [
            "Genes before 55414\n",
            "Genes after 32541\n"
          ]
        }
      ]
    },
    {
      "cell_type": "markdown",
      "source": [
        "Let's check the genes with the total maximum expression in all samples:"
      ],
      "metadata": {
        "id": "AtCqVg4XDdeN"
      }
    },
    {
      "cell_type": "code",
      "source": [
        "overallexpr = df[numcols].sum(axis=1)\n",
        "\n",
        "# New trick:\n",
        "## sort by index\n",
        "argsort = overallexpr.argsort()\n",
        "## select top 25 elements\n",
        "index = argsort[-25:]\n",
        "\n",
        "# Print selected genes\n",
        "# hint: use iloc for indexing using row ids\n",
        "df.iloc[index]"
      ],
      "metadata": {
        "colab": {
          "base_uri": "https://localhost:8080/",
          "height": 897
        },
        "id": "lhT5wHi2D3oH",
        "outputId": "e7048d5e-a2d1-4918-847b-0f3153450222"
      },
      "execution_count": null,
      "outputs": [
        {
          "output_type": "execute_result",
          "data": {
            "text/plain": [
              "                  gene_id gene_name           WT 1           WT 2  \\\n",
              "10339  ENSMUSG00000036438     Calm2    1840.198427    1509.339073   \n",
              "22469  ENSMUSG00000079523    Tmsb10    2200.138278    2220.240613   \n",
              "17920  ENSMUSG00000064357   mt-Atp6    1664.150278    2382.067405   \n",
              "19955  ENSMUSG00000072235    Tuba1a    3036.510536    2597.366673   \n",
              "10821  ENSMUSG00000037742    Eef1a1    2511.334800    2308.747941   \n",
              "29226  ENSMUSG00000089617  Scarna10    2543.745606    2018.505853   \n",
              "30647  ENSMUSG00000092341    Malat1    2045.508091    2268.508469   \n",
              "17908  ENSMUSG00000064345    mt-Nd2    2490.706877    2418.701298   \n",
              "17921  ENSMUSG00000064358    mt-Co3    2979.160426    2641.731214   \n",
              "17929  ENSMUSG00000064367    mt-Nd5    2634.345946    2604.588774   \n",
              "18695  ENSMUSG00000065947   mt-Nd4l    3244.481524    3787.011878   \n",
              "49540  ENSMUSG00000115420      Rmrp    4648.810066    5935.635789   \n",
              "17925  ENSMUSG00000064363    mt-Nd4    4578.895973    4504.075658   \n",
              "17919  ENSMUSG00000064356   mt-Atp8    3451.798433    3194.473193   \n",
              "17923  ENSMUSG00000064360    mt-Nd3    4762.398471    4759.783429   \n",
              "17932  ENSMUSG00000064370   mt-Cytb    7140.148099    7157.130352   \n",
              "17904  ENSMUSG00000064341    mt-Nd1    7689.936568    7120.516366   \n",
              "35986  ENSMUSG00000100862   Gm10925    8668.572102    7631.164943   \n",
              "36227  ENSMUSG00000101111   Gm28437    9590.183503    9092.210924   \n",
              "30928  ENSMUSG00000092837     Rpph1   11583.957861   12935.043219   \n",
              "17914  ENSMUSG00000064351    mt-Co1   11752.649712   11573.023455   \n",
              "37132  ENSMUSG00000102070   Gm28661   14274.473853   14348.844034   \n",
              "52514  ENSMUSG00000118841     Rn7s2   24940.017679   25474.594691   \n",
              "54582  ENSMUSG00002076161       7SK  102334.349529  106563.019037   \n",
              "52530  ENSMUSG00000118866     Rn7s1  167432.945541  193591.189912   \n",
              "\n",
              "                WT 3     ADAR1-KO 1     ADAR1-KO 2     ADAR1-KO 3  \n",
              "10339    1692.983059    1587.092426    1982.983928    1718.665379  \n",
              "22469    2074.972096    1947.824881    1680.899356    1671.131771  \n",
              "17920    2676.317072    2489.887031    2617.380922    2146.627295  \n",
              "19955    2475.734604    2210.264517    2075.149821    1701.563531  \n",
              "10821    2336.038481    2549.191639    2396.699357    2192.486894  \n",
              "29226    1871.990995    2677.112775    2851.838132    2596.931833  \n",
              "30647    2547.802359    3051.303821    3270.084838    2899.630130  \n",
              "17908    2881.440924    3008.192287    3304.867438    2912.346381  \n",
              "17921    2718.308449    3148.737339    2525.174341    3317.416471  \n",
              "17929    3032.068949    3093.506830    3157.189884    3042.056137  \n",
              "18695    5191.404945    4300.233598    4692.699653    3824.266417  \n",
              "49540    5110.159742    4217.981449    3487.013390    3726.549261  \n",
              "17925    5439.584430    5016.570289    5410.107547    5138.580676  \n",
              "17919    6608.528970    4569.459389    6933.611236    5597.696083  \n",
              "17923    6556.043245    6048.342017    6107.484679    5500.308998  \n",
              "17932    7060.157734    7265.976052    7694.228833    7855.445480  \n",
              "17904    7850.802297    8494.714554    9201.511742    8645.226517  \n",
              "35986    8472.854381    9178.058135   10870.244060    9758.700512  \n",
              "36227   10351.376384    9470.910668   11953.672795   10212.991929  \n",
              "30928   12466.619806   13130.398621   10852.620645   10056.491107  \n",
              "17914   12443.641672   13559.402518   14370.470688   13691.010991  \n",
              "37132   15964.720522   15954.974569   17029.868971   16250.250283  \n",
              "52514  113278.214067   11773.807530   33228.528517   20900.377150  \n",
              "54582  105427.248728  102413.253603   97606.676391  108510.891018  \n",
              "52530   81594.393731  161363.851954  127290.164003  159930.560284  "
            ],
            "text/html": [
              "\n",
              "  <div id=\"df-faa8334c-3df9-46bc-9ad1-5c4c9d6b0a04\">\n",
              "    <div class=\"colab-df-container\">\n",
              "      <div>\n",
              "<style scoped>\n",
              "    .dataframe tbody tr th:only-of-type {\n",
              "        vertical-align: middle;\n",
              "    }\n",
              "\n",
              "    .dataframe tbody tr th {\n",
              "        vertical-align: top;\n",
              "    }\n",
              "\n",
              "    .dataframe thead th {\n",
              "        text-align: right;\n",
              "    }\n",
              "</style>\n",
              "<table border=\"1\" class=\"dataframe\">\n",
              "  <thead>\n",
              "    <tr style=\"text-align: right;\">\n",
              "      <th></th>\n",
              "      <th>gene_id</th>\n",
              "      <th>gene_name</th>\n",
              "      <th>WT 1</th>\n",
              "      <th>WT 2</th>\n",
              "      <th>WT 3</th>\n",
              "      <th>ADAR1-KO 1</th>\n",
              "      <th>ADAR1-KO 2</th>\n",
              "      <th>ADAR1-KO 3</th>\n",
              "    </tr>\n",
              "  </thead>\n",
              "  <tbody>\n",
              "    <tr>\n",
              "      <th>10339</th>\n",
              "      <td>ENSMUSG00000036438</td>\n",
              "      <td>Calm2</td>\n",
              "      <td>1840.198427</td>\n",
              "      <td>1509.339073</td>\n",
              "      <td>1692.983059</td>\n",
              "      <td>1587.092426</td>\n",
              "      <td>1982.983928</td>\n",
              "      <td>1718.665379</td>\n",
              "    </tr>\n",
              "    <tr>\n",
              "      <th>22469</th>\n",
              "      <td>ENSMUSG00000079523</td>\n",
              "      <td>Tmsb10</td>\n",
              "      <td>2200.138278</td>\n",
              "      <td>2220.240613</td>\n",
              "      <td>2074.972096</td>\n",
              "      <td>1947.824881</td>\n",
              "      <td>1680.899356</td>\n",
              "      <td>1671.131771</td>\n",
              "    </tr>\n",
              "    <tr>\n",
              "      <th>17920</th>\n",
              "      <td>ENSMUSG00000064357</td>\n",
              "      <td>mt-Atp6</td>\n",
              "      <td>1664.150278</td>\n",
              "      <td>2382.067405</td>\n",
              "      <td>2676.317072</td>\n",
              "      <td>2489.887031</td>\n",
              "      <td>2617.380922</td>\n",
              "      <td>2146.627295</td>\n",
              "    </tr>\n",
              "    <tr>\n",
              "      <th>19955</th>\n",
              "      <td>ENSMUSG00000072235</td>\n",
              "      <td>Tuba1a</td>\n",
              "      <td>3036.510536</td>\n",
              "      <td>2597.366673</td>\n",
              "      <td>2475.734604</td>\n",
              "      <td>2210.264517</td>\n",
              "      <td>2075.149821</td>\n",
              "      <td>1701.563531</td>\n",
              "    </tr>\n",
              "    <tr>\n",
              "      <th>10821</th>\n",
              "      <td>ENSMUSG00000037742</td>\n",
              "      <td>Eef1a1</td>\n",
              "      <td>2511.334800</td>\n",
              "      <td>2308.747941</td>\n",
              "      <td>2336.038481</td>\n",
              "      <td>2549.191639</td>\n",
              "      <td>2396.699357</td>\n",
              "      <td>2192.486894</td>\n",
              "    </tr>\n",
              "    <tr>\n",
              "      <th>29226</th>\n",
              "      <td>ENSMUSG00000089617</td>\n",
              "      <td>Scarna10</td>\n",
              "      <td>2543.745606</td>\n",
              "      <td>2018.505853</td>\n",
              "      <td>1871.990995</td>\n",
              "      <td>2677.112775</td>\n",
              "      <td>2851.838132</td>\n",
              "      <td>2596.931833</td>\n",
              "    </tr>\n",
              "    <tr>\n",
              "      <th>30647</th>\n",
              "      <td>ENSMUSG00000092341</td>\n",
              "      <td>Malat1</td>\n",
              "      <td>2045.508091</td>\n",
              "      <td>2268.508469</td>\n",
              "      <td>2547.802359</td>\n",
              "      <td>3051.303821</td>\n",
              "      <td>3270.084838</td>\n",
              "      <td>2899.630130</td>\n",
              "    </tr>\n",
              "    <tr>\n",
              "      <th>17908</th>\n",
              "      <td>ENSMUSG00000064345</td>\n",
              "      <td>mt-Nd2</td>\n",
              "      <td>2490.706877</td>\n",
              "      <td>2418.701298</td>\n",
              "      <td>2881.440924</td>\n",
              "      <td>3008.192287</td>\n",
              "      <td>3304.867438</td>\n",
              "      <td>2912.346381</td>\n",
              "    </tr>\n",
              "    <tr>\n",
              "      <th>17921</th>\n",
              "      <td>ENSMUSG00000064358</td>\n",
              "      <td>mt-Co3</td>\n",
              "      <td>2979.160426</td>\n",
              "      <td>2641.731214</td>\n",
              "      <td>2718.308449</td>\n",
              "      <td>3148.737339</td>\n",
              "      <td>2525.174341</td>\n",
              "      <td>3317.416471</td>\n",
              "    </tr>\n",
              "    <tr>\n",
              "      <th>17929</th>\n",
              "      <td>ENSMUSG00000064367</td>\n",
              "      <td>mt-Nd5</td>\n",
              "      <td>2634.345946</td>\n",
              "      <td>2604.588774</td>\n",
              "      <td>3032.068949</td>\n",
              "      <td>3093.506830</td>\n",
              "      <td>3157.189884</td>\n",
              "      <td>3042.056137</td>\n",
              "    </tr>\n",
              "    <tr>\n",
              "      <th>18695</th>\n",
              "      <td>ENSMUSG00000065947</td>\n",
              "      <td>mt-Nd4l</td>\n",
              "      <td>3244.481524</td>\n",
              "      <td>3787.011878</td>\n",
              "      <td>5191.404945</td>\n",
              "      <td>4300.233598</td>\n",
              "      <td>4692.699653</td>\n",
              "      <td>3824.266417</td>\n",
              "    </tr>\n",
              "    <tr>\n",
              "      <th>49540</th>\n",
              "      <td>ENSMUSG00000115420</td>\n",
              "      <td>Rmrp</td>\n",
              "      <td>4648.810066</td>\n",
              "      <td>5935.635789</td>\n",
              "      <td>5110.159742</td>\n",
              "      <td>4217.981449</td>\n",
              "      <td>3487.013390</td>\n",
              "      <td>3726.549261</td>\n",
              "    </tr>\n",
              "    <tr>\n",
              "      <th>17925</th>\n",
              "      <td>ENSMUSG00000064363</td>\n",
              "      <td>mt-Nd4</td>\n",
              "      <td>4578.895973</td>\n",
              "      <td>4504.075658</td>\n",
              "      <td>5439.584430</td>\n",
              "      <td>5016.570289</td>\n",
              "      <td>5410.107547</td>\n",
              "      <td>5138.580676</td>\n",
              "    </tr>\n",
              "    <tr>\n",
              "      <th>17919</th>\n",
              "      <td>ENSMUSG00000064356</td>\n",
              "      <td>mt-Atp8</td>\n",
              "      <td>3451.798433</td>\n",
              "      <td>3194.473193</td>\n",
              "      <td>6608.528970</td>\n",
              "      <td>4569.459389</td>\n",
              "      <td>6933.611236</td>\n",
              "      <td>5597.696083</td>\n",
              "    </tr>\n",
              "    <tr>\n",
              "      <th>17923</th>\n",
              "      <td>ENSMUSG00000064360</td>\n",
              "      <td>mt-Nd3</td>\n",
              "      <td>4762.398471</td>\n",
              "      <td>4759.783429</td>\n",
              "      <td>6556.043245</td>\n",
              "      <td>6048.342017</td>\n",
              "      <td>6107.484679</td>\n",
              "      <td>5500.308998</td>\n",
              "    </tr>\n",
              "    <tr>\n",
              "      <th>17932</th>\n",
              "      <td>ENSMUSG00000064370</td>\n",
              "      <td>mt-Cytb</td>\n",
              "      <td>7140.148099</td>\n",
              "      <td>7157.130352</td>\n",
              "      <td>7060.157734</td>\n",
              "      <td>7265.976052</td>\n",
              "      <td>7694.228833</td>\n",
              "      <td>7855.445480</td>\n",
              "    </tr>\n",
              "    <tr>\n",
              "      <th>17904</th>\n",
              "      <td>ENSMUSG00000064341</td>\n",
              "      <td>mt-Nd1</td>\n",
              "      <td>7689.936568</td>\n",
              "      <td>7120.516366</td>\n",
              "      <td>7850.802297</td>\n",
              "      <td>8494.714554</td>\n",
              "      <td>9201.511742</td>\n",
              "      <td>8645.226517</td>\n",
              "    </tr>\n",
              "    <tr>\n",
              "      <th>35986</th>\n",
              "      <td>ENSMUSG00000100862</td>\n",
              "      <td>Gm10925</td>\n",
              "      <td>8668.572102</td>\n",
              "      <td>7631.164943</td>\n",
              "      <td>8472.854381</td>\n",
              "      <td>9178.058135</td>\n",
              "      <td>10870.244060</td>\n",
              "      <td>9758.700512</td>\n",
              "    </tr>\n",
              "    <tr>\n",
              "      <th>36227</th>\n",
              "      <td>ENSMUSG00000101111</td>\n",
              "      <td>Gm28437</td>\n",
              "      <td>9590.183503</td>\n",
              "      <td>9092.210924</td>\n",
              "      <td>10351.376384</td>\n",
              "      <td>9470.910668</td>\n",
              "      <td>11953.672795</td>\n",
              "      <td>10212.991929</td>\n",
              "    </tr>\n",
              "    <tr>\n",
              "      <th>30928</th>\n",
              "      <td>ENSMUSG00000092837</td>\n",
              "      <td>Rpph1</td>\n",
              "      <td>11583.957861</td>\n",
              "      <td>12935.043219</td>\n",
              "      <td>12466.619806</td>\n",
              "      <td>13130.398621</td>\n",
              "      <td>10852.620645</td>\n",
              "      <td>10056.491107</td>\n",
              "    </tr>\n",
              "    <tr>\n",
              "      <th>17914</th>\n",
              "      <td>ENSMUSG00000064351</td>\n",
              "      <td>mt-Co1</td>\n",
              "      <td>11752.649712</td>\n",
              "      <td>11573.023455</td>\n",
              "      <td>12443.641672</td>\n",
              "      <td>13559.402518</td>\n",
              "      <td>14370.470688</td>\n",
              "      <td>13691.010991</td>\n",
              "    </tr>\n",
              "    <tr>\n",
              "      <th>37132</th>\n",
              "      <td>ENSMUSG00000102070</td>\n",
              "      <td>Gm28661</td>\n",
              "      <td>14274.473853</td>\n",
              "      <td>14348.844034</td>\n",
              "      <td>15964.720522</td>\n",
              "      <td>15954.974569</td>\n",
              "      <td>17029.868971</td>\n",
              "      <td>16250.250283</td>\n",
              "    </tr>\n",
              "    <tr>\n",
              "      <th>52514</th>\n",
              "      <td>ENSMUSG00000118841</td>\n",
              "      <td>Rn7s2</td>\n",
              "      <td>24940.017679</td>\n",
              "      <td>25474.594691</td>\n",
              "      <td>113278.214067</td>\n",
              "      <td>11773.807530</td>\n",
              "      <td>33228.528517</td>\n",
              "      <td>20900.377150</td>\n",
              "    </tr>\n",
              "    <tr>\n",
              "      <th>54582</th>\n",
              "      <td>ENSMUSG00002076161</td>\n",
              "      <td>7SK</td>\n",
              "      <td>102334.349529</td>\n",
              "      <td>106563.019037</td>\n",
              "      <td>105427.248728</td>\n",
              "      <td>102413.253603</td>\n",
              "      <td>97606.676391</td>\n",
              "      <td>108510.891018</td>\n",
              "    </tr>\n",
              "    <tr>\n",
              "      <th>52530</th>\n",
              "      <td>ENSMUSG00000118866</td>\n",
              "      <td>Rn7s1</td>\n",
              "      <td>167432.945541</td>\n",
              "      <td>193591.189912</td>\n",
              "      <td>81594.393731</td>\n",
              "      <td>161363.851954</td>\n",
              "      <td>127290.164003</td>\n",
              "      <td>159930.560284</td>\n",
              "    </tr>\n",
              "  </tbody>\n",
              "</table>\n",
              "</div>\n",
              "      <button class=\"colab-df-convert\" onclick=\"convertToInteractive('df-faa8334c-3df9-46bc-9ad1-5c4c9d6b0a04')\"\n",
              "              title=\"Convert this dataframe to an interactive table.\"\n",
              "              style=\"display:none;\">\n",
              "        \n",
              "  <svg xmlns=\"http://www.w3.org/2000/svg\" height=\"24px\"viewBox=\"0 0 24 24\"\n",
              "       width=\"24px\">\n",
              "    <path d=\"M0 0h24v24H0V0z\" fill=\"none\"/>\n",
              "    <path d=\"M18.56 5.44l.94 2.06.94-2.06 2.06-.94-2.06-.94-.94-2.06-.94 2.06-2.06.94zm-11 1L8.5 8.5l.94-2.06 2.06-.94-2.06-.94L8.5 2.5l-.94 2.06-2.06.94zm10 10l.94 2.06.94-2.06 2.06-.94-2.06-.94-.94-2.06-.94 2.06-2.06.94z\"/><path d=\"M17.41 7.96l-1.37-1.37c-.4-.4-.92-.59-1.43-.59-.52 0-1.04.2-1.43.59L10.3 9.45l-7.72 7.72c-.78.78-.78 2.05 0 2.83L4 21.41c.39.39.9.59 1.41.59.51 0 1.02-.2 1.41-.59l7.78-7.78 2.81-2.81c.8-.78.8-2.07 0-2.86zM5.41 20L4 18.59l7.72-7.72 1.47 1.35L5.41 20z\"/>\n",
              "  </svg>\n",
              "      </button>\n",
              "      \n",
              "  <style>\n",
              "    .colab-df-container {\n",
              "      display:flex;\n",
              "      flex-wrap:wrap;\n",
              "      gap: 12px;\n",
              "    }\n",
              "\n",
              "    .colab-df-convert {\n",
              "      background-color: #E8F0FE;\n",
              "      border: none;\n",
              "      border-radius: 50%;\n",
              "      cursor: pointer;\n",
              "      display: none;\n",
              "      fill: #1967D2;\n",
              "      height: 32px;\n",
              "      padding: 0 0 0 0;\n",
              "      width: 32px;\n",
              "    }\n",
              "\n",
              "    .colab-df-convert:hover {\n",
              "      background-color: #E2EBFA;\n",
              "      box-shadow: 0px 1px 2px rgba(60, 64, 67, 0.3), 0px 1px 3px 1px rgba(60, 64, 67, 0.15);\n",
              "      fill: #174EA6;\n",
              "    }\n",
              "\n",
              "    [theme=dark] .colab-df-convert {\n",
              "      background-color: #3B4455;\n",
              "      fill: #D2E3FC;\n",
              "    }\n",
              "\n",
              "    [theme=dark] .colab-df-convert:hover {\n",
              "      background-color: #434B5C;\n",
              "      box-shadow: 0px 1px 3px 1px rgba(0, 0, 0, 0.15);\n",
              "      filter: drop-shadow(0px 1px 2px rgba(0, 0, 0, 0.3));\n",
              "      fill: #FFFFFF;\n",
              "    }\n",
              "  </style>\n",
              "\n",
              "      <script>\n",
              "        const buttonEl =\n",
              "          document.querySelector('#df-faa8334c-3df9-46bc-9ad1-5c4c9d6b0a04 button.colab-df-convert');\n",
              "        buttonEl.style.display =\n",
              "          google.colab.kernel.accessAllowed ? 'block' : 'none';\n",
              "\n",
              "        async function convertToInteractive(key) {\n",
              "          const element = document.querySelector('#df-faa8334c-3df9-46bc-9ad1-5c4c9d6b0a04');\n",
              "          const dataTable =\n",
              "            await google.colab.kernel.invokeFunction('convertToInteractive',\n",
              "                                                     [key], {});\n",
              "          if (!dataTable) return;\n",
              "\n",
              "          const docLinkHtml = 'Like what you see? Visit the ' +\n",
              "            '<a target=\"_blank\" href=https://colab.research.google.com/notebooks/data_table.ipynb>data table notebook</a>'\n",
              "            + ' to learn more about interactive tables.';\n",
              "          element.innerHTML = '';\n",
              "          dataTable['output_type'] = 'display_data';\n",
              "          await google.colab.output.renderOutput(dataTable, element);\n",
              "          const docLink = document.createElement('div');\n",
              "          docLink.innerHTML = docLinkHtml;\n",
              "          element.appendChild(docLink);\n",
              "        }\n",
              "      </script>\n",
              "    </div>\n",
              "  </div>\n",
              "  "
            ]
          },
          "metadata": {},
          "execution_count": 60
        }
      ]
    },
    {
      "cell_type": "markdown",
      "source": [
        "Obviously, these genes are not outliers due to their **consistently** high expression.\n",
        "\n",
        "[0.15] What gene groups do we have here (hint - at least 2)? Give a brief description for each category.\n",
        "\n",
        "→ \n",
        "1)Mitochondrial genes (mt) - regulate energy metabolism.\n",
        "2)7S RNA genes has a regulatory function.3)Unidentified genes (Gm)."
      ],
      "metadata": {
        "id": "j-rHXzz4EkCV"
      }
    },
    {
      "cell_type": "markdown",
      "source": [
        "# Quality control [5.5]\n",
        "\n",
        "The data is ready, and, fortunately, without obvious problems. In this homework we will focus on basic quality control (QC) figures.\n",
        "\n",
        "Several decades ago such plots would have been included in almost all relevant publications. Now the quality of RNA sequencing has improved significantly, and the researchers simply mention that the samples passed the standard quality check."
      ],
      "metadata": {
        "id": "h-BYmXgA9i4s"
      }
    },
    {
      "cell_type": "markdown",
      "source": [
        "## PCA [1.5]\n",
        "\n",
        "It is a well-known observation that PCA decomposition of expression profiles should group samples according to their origin. In our case, we expect to observe two clusters - KO and WT cells.\n",
        "\n",
        "The closer the samples are to each other on the PCA plot, the better. However, we are fine as long as the samples can be separated by a straight line.\n",
        "\n",
        "\n",
        "**[0.5] points in this section is for writing code.**"
      ],
      "metadata": {
        "id": "XY5wTG7UKL4_"
      }
    },
    {
      "cell_type": "code",
      "source": [
        "from sklearn.decomposition import PCA\n",
        "from sklearn.preprocessing import StandardScaler\n",
        "\n",
        "# Select expression columns \n",
        "data = df[numcols]\n",
        "# Transpose the matrix to treat genes as features\n",
        "data = data.transpose()\n",
        "# Transform to zero mean and unit variance\n",
        "data = StandardScaler().fit_transform(data)\n",
        "\n",
        "# first thing is to calculate the PCA decomposition\n",
        "# hint: don't forget the random state & request 2 components to make a 2D plot\n",
        "pca = PCA(random_state=32, n_components=2)\n",
        "pca = pca.fit_transform(data)\n",
        "\n",
        "samples, coords = pca.shape\n",
        "print(f\"Samples: {samples}\")\n",
        "print(f\"Components: {coords}\")"
      ],
      "metadata": {
        "colab": {
          "base_uri": "https://localhost:8080/"
        },
        "id": "_HM8N9THLLin",
        "outputId": "05322117-8334-4457-fc1e-1a18e8d0a4a8"
      },
      "execution_count": null,
      "outputs": [
        {
          "output_type": "stream",
          "name": "stdout",
          "text": [
            "Samples: 6\n",
            "Components: 2\n"
          ]
        }
      ]
    },
    {
      "cell_type": "code",
      "source": [
        "import matplotlib.pyplot as plt\n",
        "# colors in HEX format\n",
        "palette = {\"WT\": \"#1F77B4\", \"ADAR1-KO\": \"#D62728\"}\n",
        "\n",
        "# Create a basic draft\n",
        "fig = plt.figure()\n",
        "ax = fig.gca()\n",
        "\n",
        "for (x, y), col in zip(pca, numcols):\n",
        "  group = \"WT\" if \"WT\" in col else \"ADAR1-KO\"\n",
        "  color = palette[group]\n",
        "  ax.scatter(x, y, color=color)\n",
        "\n",
        "fig.show()"
      ],
      "metadata": {
        "colab": {
          "base_uri": "https://localhost:8080/",
          "height": 265
        },
        "id": "PW2q5IzsMeer",
        "outputId": "45c87317-68a2-447d-f58e-8478e48e1384"
      },
      "execution_count": null,
      "outputs": [
        {
          "output_type": "display_data",
          "data": {
            "text/plain": [
              "<Figure size 432x288 with 1 Axes>"
            ],
            "image/png": "[encoded data removed]"
          },
          "metadata": {
            "needs_background": "light"
          }
        }
      ]
    },
    {
      "cell_type": "markdown",
      "source": [
        "[1.0] Your task is to start with the plot above and reproduce the below version:"
      ],
      "metadata": {
        "id": "UM-0ueZAQBR3"
      }
    },
    {
      "cell_type": "code",
      "source": [
        "import matplotlib.pyplot as plt\n",
        "# colors in HEX format\n",
        "palette = {\"WT\": \"#1F77B4\", \"ADAR1-KO\": \"#D62728\"}\n",
        "\n",
        "# Create a basic draft\n",
        "fig = plt.figure()\n",
        "ax = fig.gca()\n",
        "ax.set_xlabel('PCA 1',fontsize = 13, fontstyle = 'italic')\n",
        "ax.set_ylabel('PCA 2',fontsize = 13, fontstyle = 'italic')\n",
        "plt.title('PCA decomposition',loc = 'left',fontsize = 15, fontweight='bold')\n",
        "ax.grid()\n",
        "ax.axvline(ls='--', color='black')\n",
        "ax.set_ylim(-100, 150)\n",
        "ax.set_xlim(-150, 150)\n",
        "\n",
        "for (x, y), col in zip(pca, numcols):\n",
        "  group = \"WT\" if \"WT\" in col else \"ADAR1-KO\"\n",
        "  color = palette[group]\n",
        "  ax.scatter(x, y, color=color)\n",
        "\n",
        "fig.show()"
      ],
      "metadata": {
        "colab": {
          "base_uri": "https://localhost:8080/",
          "height": 300
        },
        "id": "6kN-KIHpPuZg",
        "outputId": "b9e4f146-093f-43dd-8b1b-e32f6844144e"
      },
      "execution_count": null,
      "outputs": [
        {
          "output_type": "display_data",
          "data": {
            "text/plain": [
              "<Figure size 432x288 with 1 Axes>"
            ],
            "image/png": "[encoded data removed]"
          },
          "metadata": {
            "needs_background": "light"
          }
        }
      ]
    },
    {
      "cell_type": "markdown",
      "source": [
        "Obviously Colab compresses the image when it shows it to you, which is why it's so \"blocky\". When preparing figures for this article, you should use vector graphics (for example, matplotlib supports SVG export)."
      ],
      "metadata": {
        "id": "YH0J0sxtUgOy"
      }
    },
    {
      "cell_type": "markdown",
      "source": [
        "## Distance matrix [1]\n",
        "\n",
        "We can make a more formal version using the distance matrix (calculated over expression values). Distance here is a broad term - we can use both strict mathematical distance metrics ($|l_1|$, $|l_2|$, etc.) and more informal ones based on correlation.\n",
        "\n",
        "For example, let's use $dist(X, Y) = 1 - corr(X, Y)$. \n",
        "\n",
        "**[0.5] points in this section is for writing code.**"
      ],
      "metadata": {
        "id": "nye_WquOkBRs"
      }
    },
    {
      "cell_type": "code",
      "source": [
        "import numpy as np\n",
        "import matplotlib\n",
        "import matplotlib as mpl\n",
        "import matplotlib.pyplot as plt\n",
        "\n",
        "# Calculate the spearman correlation\n",
        "corr = df[numcols].corr(method='spearman')\n",
        "corr = 1 - corr\n",
        "\n",
        "\n",
        "fig, ax = plt.subplots() # same as figure + .gca()\n",
        "\n",
        "# cmap - mapping between values and colors\n",
        "cmap = cmap=plt.get_cmap('hot')\n",
        "# imshow = image show (yes, we treat the matrix as a picture)\n",
        "im = ax.imshow(corr, cmap=cmap)\n",
        "\n",
        "loc, labels = np.arange(len(numcols)), list(numcols)\n",
        "\n",
        "# Create ticks\n",
        "ax.set_xticks(loc)\n",
        "ax.set_xticklabels(labels, rotation=45, ha=\"right\", rotation_mode=\"anchor\")\n",
        "\n",
        "ax.set_yticks(loc)\n",
        "ax.set_yticklabels(labels, fontsize=13)\n",
        "\n",
        "# label cells\n",
        "for x in loc:\n",
        "  for y in loc:\n",
        "    value = corr.iloc[x, y]\n",
        "    ax.text(x, y, round(value,3), ha=\"center\", va=\"center\", fontsize=10)\n",
        "\n",
        "# Disable spines\n",
        "for s in ax.spines.values():\n",
        "  s.set_visible(False)\n",
        "\n",
        "# Add minor ticks\n",
        "ax.set_xticks(loc - 0.5, minor=True)\n",
        "ax.set_yticks(loc - 0.5, minor=True)\n",
        "\n",
        "# And create a grid based on them\n",
        "ax.grid(which='minor',color='white',linewidth=4)\n",
        "ax.tick_params(which=\"minor\", bottom=False, left=False)\n",
        "\n",
        "ax.set_title(\"Expr. correlation\",loc = 'left', fontweight='bold')\n",
        "\n",
        "# Colorbar to visualize the cmap\n",
        "fig.colorbar(im, ax=ax)\n",
        "\n",
        "fig.show()"
      ],
      "metadata": {
        "colab": {
          "base_uri": "https://localhost:8080/",
          "height": 322
        },
        "id": "Nt6iO52Gv-Mt",
        "outputId": "ae64f1da-a659-4665-bc9d-cb0f4b8349ec"
      },
      "execution_count": null,
      "outputs": [
        {
          "output_type": "display_data",
          "data": {
            "text/plain": [
              "<Figure size 432x288 with 2 Axes>"
            ],
            "image/png": "[encoded data removed]"
          },
          "metadata": {
            "needs_background": "light"
          }
        }
      ]
    },
    {
      "cell_type": "markdown",
      "source": [
        "[0.25] Can you provide at least two reason why the third KO sample is an outlier in terms of the correlation with WT cells?\n",
        "\n",
        "→ The correlation between the third KO sample and WT is higher than that between the first/second KO and WT."
      ],
      "metadata": {
        "id": "hfOXwzUgVFwn"
      }
    },
    {
      "cell_type": "markdown",
      "source": [
        "[0.25] Play around with the style of the plot and provide your best version below."
      ],
      "metadata": {
        "id": "nbQJjIQZtR9i"
      }
    },
    {
      "cell_type": "code",
      "source": [
        "import numpy as np\n",
        "import matplotlib\n",
        "import matplotlib as mpl\n",
        "import matplotlib.pyplot as plt\n",
        "\n",
        "corr = df[numcols].corr(method='spearman')\n",
        "corr = 1 - corr\n",
        "fig, ax = plt.subplots() \n",
        "\n",
        "cmap = cmap=plt.get_cmap('copper')\n",
        "im = ax.imshow(corr, cmap=cmap)\n",
        "\n",
        "loc, labels = np.arange(len(numcols)), list(numcols)\n",
        "\n",
        "ax.set_xticks(loc)\n",
        "ax.set_xticklabels(labels, fontsize=15, rotation=45, ha=\"right\", rotation_mode=\"anchor\", fontweight='bold',fontfamily = 'fantasy')\n",
        "ax.set_yticks(loc)\n",
        "ax.set_yticklabels(labels, fontsize=15,fontweight='bold',fontfamily = 'fantasy')\n",
        "\n",
        "for x in loc:\n",
        "  for y in loc:\n",
        "    value = corr.iloc[x, y]\n",
        "    ax.text(x, y, round(value,3), ha=\"center\", va=\"center\", fontsize=10)\n",
        "\n",
        "for s in ax.spines.values():\n",
        "  s.set_visible(False)\n",
        "\n",
        "ax.set_xticks(loc - 0.5, minor=True)\n",
        "ax.set_yticks(loc - 0.5, minor=True)\n",
        "\n",
        "ax.grid(which='minor',linewidth=2, color='black',)\n",
        "ax.tick_params(which=\"minor\", bottom=False, left=False)\n",
        "\n",
        "ax.set_title(\"Expression correlation\",loc = 'center', fontweight='bold',fontsize=15,fontfamily = 'fantasy')\n",
        "\n",
        "fig.colorbar(im, ax=ax)\n",
        "\n",
        "fig.show()"
      ],
      "metadata": {
        "id": "qjlYxLLKrzFy",
        "colab": {
          "base_uri": "https://localhost:8080/",
          "height": 336
        },
        "outputId": "2ba320d2-5df6-4a5d-8fda-4a9529457771"
      },
      "execution_count": null,
      "outputs": [
        {
          "output_type": "display_data",
          "data": {
            "text/plain": [
              "<Figure size 432x288 with 2 Axes>"
            ],
            "image/png": "[encoded data removed]"
          },
          "metadata": {
            "needs_background": "light"
          }
        }
      ]
    },
    {
      "cell_type": "markdown",
      "source": [
        "## Expression distribution [1.5]\n",
        "\n",
        "Let's have a look at binned distribution of genes expression:\n",
        "\n",
        "**[0.25] points in this section is for writing code.**"
      ],
      "metadata": {
        "id": "wcezuyy-OVXW"
      }
    },
    {
      "cell_type": "code",
      "source": [
        "fig, ax = plt.subplots()\n",
        "\n",
        "# Let's ignore the highly expressed genes - \n",
        "# it makes no sense to bin them, since there are only a few of them.\n",
        "upthr = df[numcols].quantile(0.98).max()\n",
        "\n",
        "# Create 200 bins ranging from 0 to upthr\n",
        "# hint: use numpy\n",
        "bins = np.linspace(0,upthr,200)\n",
        "\n",
        "\n",
        "# Calculate center of each bin\n",
        "# hint: slice with step & sum & divide by 2\n",
        "X = [(bins[i-1]+bins[i])/2 for i in range(1,200)]\n",
        "\n",
        "# Plot each genotype\n",
        "for genotype in \"WT\", \"ADAR1-KO\":\n",
        "\n",
        "  # There are 3 samples of each genotype\n",
        "  counts = []\n",
        "  for col in numcols:\n",
        "    if genotype not in col:\n",
        "      continue\n",
        "    # count number of genes in each bin\n",
        "    c, _ = np.histogram(df[col], bins)\n",
        "    counts.append(c)\n",
        "  \n",
        "  # Turn list of 1D arrays into dense 2D array\n",
        "  counts = np.asarray(counts)\n",
        "  # Calculate stats for each bin\n",
        "  meanv, minv, maxv = counts.mean(axis=0), counts.min(axis=0), counts.max(axis=0)\n",
        "\n",
        "  # Get the color from the palette\n",
        "  color = 'blue'\n",
        "\n",
        "  # Plot the mean trend\n",
        "  ax.plot(X, meanv)\n",
        "  # Shade betweenmin and max\n",
        "  ax.fill_between(X, minv, maxv, color=color, alpha=0.25)\n",
        "\n",
        "ax.set(yscale='log')"
      ],
      "metadata": {
        "id": "eYAiLhfFOetY",
        "colab": {
          "base_uri": "https://localhost:8080/",
          "height": 282
        },
        "outputId": "c35df546-d5c6-4c8c-b13a-663b21faf305"
      },
      "execution_count": null,
      "outputs": [
        {
          "output_type": "execute_result",
          "data": {
            "text/plain": [
              "[None]"
            ]
          },
          "metadata": {},
          "execution_count": 97
        },
        {
          "output_type": "display_data",
          "data": {
            "text/plain": [
              "<Figure size 432x288 with 1 Axes>"
            ],
            "image/png": "[encoded data removed]"
          },
          "metadata": {
            "needs_background": "light"
          }
        }
      ]
    },
    {
      "cell_type": "markdown",
      "source": [
        "[0.5] What observations can we make based on this graph? *Hint: right tail.*\n",
        "\n",
        "→ We can observ that genes with high expression are much fewer than those with low expression."
      ],
      "metadata": {
        "id": "PJTdQlFvVYnu"
      }
    },
    {
      "cell_type": "markdown",
      "source": [
        "[0.75] Now your task is to use all your skills and embellish this plot just like we did with the PCA figure. For example, be sure to include the legend, title, grid, and axis labels."
      ],
      "metadata": {
        "id": "Sol09XuktYsS"
      }
    },
    {
      "cell_type": "code",
      "source": [
        "fig, ax = plt.subplots()\n",
        "\n",
        "upthr = df[numcols].quantile(0.98).max()\n",
        "bins = np.linspace(0,upthr,200)\n",
        "X = [(bins[i-1]+bins[i])/2 for i in range(1,200)]\n",
        "\n",
        "for genotype in \"WT\", \"ADAR1-KO\":\n",
        "\n",
        "  # There are 3 samples of each genotype\n",
        "  counts = []\n",
        "  for col in numcols:\n",
        "    if genotype not in col:\n",
        "      continue\n",
        "    # count number of genes in each bin\n",
        "    c, _ = np.histogram(df[col], bins)\n",
        "    counts.append(c)\n",
        "  \n",
        "  # Turn list of 1D arrays into dense 2D array\n",
        "  counts = np.asarray(counts)\n",
        "  # Calculate stats for each bin\n",
        "  meanv, minv, maxv = counts.mean(axis=0), counts.min(axis=0), counts.max(axis=0)\n",
        "\n",
        "  # Get the color from the palette\n",
        "  color = 'blue'\n",
        "\n",
        "  # Plot the mean trend\n",
        "  ax.plot(X, meanv)\n",
        "  # Shade betweenmin and max\n",
        "  ax.fill_between(X, minv, maxv, color=color, alpha=0.25)\n",
        "ax.grid()\n",
        "ax.set_xlabel('Expressions')\n",
        "ax.set_ylabel('Count of genes')\n",
        "plt.title(\"Expression distribution\", loc = 'center', fontweight='bold')\n",
        "ax.set(yscale='log')\n",
        "\n"
      ],
      "metadata": {
        "id": "nzZj8zLTtWxV",
        "colab": {
          "base_uri": "https://localhost:8080/",
          "height": 312
        },
        "outputId": "3d33a1b2-db85-4177-a89e-2142c4976804"
      },
      "execution_count": null,
      "outputs": [
        {
          "output_type": "execute_result",
          "data": {
            "text/plain": [
              "[None]"
            ]
          },
          "metadata": {},
          "execution_count": 105
        },
        {
          "output_type": "display_data",
          "data": {
            "text/plain": [
              "<Figure size 432x288 with 1 Axes>"
            ],
            "image/png": "[encoded data removed]"
          },
          "metadata": {
            "needs_background": "light"
          }
        }
      ]
    },
    {
      "cell_type": "markdown",
      "source": [
        "## Expression heatmap [1]\n",
        "\n",
        "Now let's visualize the expression of top N genes. First - let's get the data:"
      ],
      "metadata": {
        "id": "2o_KxUf2lon1"
      }
    },
    {
      "cell_type": "code",
      "source": [
        "# As before, we will select genes based on their overall expression\n",
        "sumexpr = df[numcols].sum(axis=1).argsort()\n",
        "\n",
        "topn = 250\n",
        "# select indices of topn genes with max expression\n",
        "ind = sumexpr[-topn:]\n",
        "\n",
        "# get the expression values\n",
        "expr = df[numcols].iloc[ind]\n",
        "expr"
      ],
      "metadata": {
        "colab": {
          "base_uri": "https://localhost:8080/",
          "height": 424
        },
        "id": "O_APZmWGWAZE",
        "outputId": "d581d3d2-9ef9-4ae2-a7ea-ea93d3928817"
      },
      "execution_count": null,
      "outputs": [
        {
          "output_type": "execute_result",
          "data": {
            "text/plain": [
              "                WT 1           WT 2           WT 3     ADAR1-KO 1  \\\n",
              "16822     354.666801     378.119043     351.839586     337.193413   \n",
              "18815     399.123179     370.559682     370.802462     285.393773   \n",
              "8889      370.760177     371.130393     341.416847     348.605561   \n",
              "15722     330.728785     300.830754     366.588915     322.513975   \n",
              "3026      375.038797     349.275206     349.147615     366.439702   \n",
              "...              ...            ...            ...            ...   \n",
              "17914   11752.649712   11573.023455   12443.641672   13559.402518   \n",
              "37132   14274.473853   14348.844034   15964.720522   15954.974569   \n",
              "52514   24940.017679   25474.594691  113278.214067   11773.807530   \n",
              "54582  102334.349529  106563.019037  105427.248728  102413.253603   \n",
              "52530  167432.945541  193591.189912   81594.393731  161363.851954   \n",
              "\n",
              "          ADAR1-KO 2     ADAR1-KO 3  \n",
              "16822     332.245688     313.615214  \n",
              "18815     358.448513     299.900925  \n",
              "8889      352.361944     322.746592  \n",
              "15722     403.102266     388.014514  \n",
              "3026      349.525445     324.287622  \n",
              "...              ...            ...  \n",
              "17914   14370.470688   13691.010991  \n",
              "37132   17029.868971   16250.250283  \n",
              "52514   33228.528517   20900.377150  \n",
              "54582   97606.676391  108510.891018  \n",
              "52530  127290.164003  159930.560284  \n",
              "\n",
              "[250 rows x 6 columns]"
            ],
            "text/html": [
              "\n",
              "  <div id=\"df-4bf47370-68fd-44e3-97bf-29f7fed2c028\">\n",
              "    <div class=\"colab-df-container\">\n",
              "      <div>\n",
              "<style scoped>\n",
              "    .dataframe tbody tr th:only-of-type {\n",
              "        vertical-align: middle;\n",
              "    }\n",
              "\n",
              "    .dataframe tbody tr th {\n",
              "        vertical-align: top;\n",
              "    }\n",
              "\n",
              "    .dataframe thead th {\n",
              "        text-align: right;\n",
              "    }\n",
              "</style>\n",
              "<table border=\"1\" class=\"dataframe\">\n",
              "  <thead>\n",
              "    <tr style=\"text-align: right;\">\n",
              "      <th></th>\n",
              "      <th>WT 1</th>\n",
              "      <th>WT 2</th>\n",
              "      <th>WT 3</th>\n",
              "      <th>ADAR1-KO 1</th>\n",
              "      <th>ADAR1-KO 2</th>\n",
              "      <th>ADAR1-KO 3</th>\n",
              "    </tr>\n",
              "  </thead>\n",
              "  <tbody>\n",
              "    <tr>\n",
              "      <th>16822</th>\n",
              "      <td>354.666801</td>\n",
              "      <td>378.119043</td>\n",
              "      <td>351.839586</td>\n",
              "      <td>337.193413</td>\n",
              "      <td>332.245688</td>\n",
              "      <td>313.615214</td>\n",
              "    </tr>\n",
              "    <tr>\n",
              "      <th>18815</th>\n",
              "      <td>399.123179</td>\n",
              "      <td>370.559682</td>\n",
              "      <td>370.802462</td>\n",
              "      <td>285.393773</td>\n",
              "      <td>358.448513</td>\n",
              "      <td>299.900925</td>\n",
              "    </tr>\n",
              "    <tr>\n",
              "      <th>8889</th>\n",
              "      <td>370.760177</td>\n",
              "      <td>371.130393</td>\n",
              "      <td>341.416847</td>\n",
              "      <td>348.605561</td>\n",
              "      <td>352.361944</td>\n",
              "      <td>322.746592</td>\n",
              "    </tr>\n",
              "    <tr>\n",
              "      <th>15722</th>\n",
              "      <td>330.728785</td>\n",
              "      <td>300.830754</td>\n",
              "      <td>366.588915</td>\n",
              "      <td>322.513975</td>\n",
              "      <td>403.102266</td>\n",
              "      <td>388.014514</td>\n",
              "    </tr>\n",
              "    <tr>\n",
              "      <th>3026</th>\n",
              "      <td>375.038797</td>\n",
              "      <td>349.275206</td>\n",
              "      <td>349.147615</td>\n",
              "      <td>366.439702</td>\n",
              "      <td>349.525445</td>\n",
              "      <td>324.287622</td>\n",
              "    </tr>\n",
              "    <tr>\n",
              "      <th>...</th>\n",
              "      <td>...</td>\n",
              "      <td>...</td>\n",
              "      <td>...</td>\n",
              "      <td>...</td>\n",
              "      <td>...</td>\n",
              "      <td>...</td>\n",
              "    </tr>\n",
              "    <tr>\n",
              "      <th>17914</th>\n",
              "      <td>11752.649712</td>\n",
              "      <td>11573.023455</td>\n",
              "      <td>12443.641672</td>\n",
              "      <td>13559.402518</td>\n",
              "      <td>14370.470688</td>\n",
              "      <td>13691.010991</td>\n",
              "    </tr>\n",
              "    <tr>\n",
              "      <th>37132</th>\n",
              "      <td>14274.473853</td>\n",
              "      <td>14348.844034</td>\n",
              "      <td>15964.720522</td>\n",
              "      <td>15954.974569</td>\n",
              "      <td>17029.868971</td>\n",
              "      <td>16250.250283</td>\n",
              "    </tr>\n",
              "    <tr>\n",
              "      <th>52514</th>\n",
              "      <td>24940.017679</td>\n",
              "      <td>25474.594691</td>\n",
              "      <td>113278.214067</td>\n",
              "      <td>11773.807530</td>\n",
              "      <td>33228.528517</td>\n",
              "      <td>20900.377150</td>\n",
              "    </tr>\n",
              "    <tr>\n",
              "      <th>54582</th>\n",
              "      <td>102334.349529</td>\n",
              "      <td>106563.019037</td>\n",
              "      <td>105427.248728</td>\n",
              "      <td>102413.253603</td>\n",
              "      <td>97606.676391</td>\n",
              "      <td>108510.891018</td>\n",
              "    </tr>\n",
              "    <tr>\n",
              "      <th>52530</th>\n",
              "      <td>167432.945541</td>\n",
              "      <td>193591.189912</td>\n",
              "      <td>81594.393731</td>\n",
              "      <td>161363.851954</td>\n",
              "      <td>127290.164003</td>\n",
              "      <td>159930.560284</td>\n",
              "    </tr>\n",
              "  </tbody>\n",
              "</table>\n",
              "<p>250 rows × 6 columns</p>\n",
              "</div>\n",
              "      <button class=\"colab-df-convert\" onclick=\"convertToInteractive('df-4bf47370-68fd-44e3-97bf-29f7fed2c028')\"\n",
              "              title=\"Convert this dataframe to an interactive table.\"\n",
              "              style=\"display:none;\">\n",
              "        \n",
              "  <svg xmlns=\"http://www.w3.org/2000/svg\" height=\"24px\"viewBox=\"0 0 24 24\"\n",
              "       width=\"24px\">\n",
              "    <path d=\"M0 0h24v24H0V0z\" fill=\"none\"/>\n",
              "    <path d=\"M18.56 5.44l.94 2.06.94-2.06 2.06-.94-2.06-.94-.94-2.06-.94 2.06-2.06.94zm-11 1L8.5 8.5l.94-2.06 2.06-.94-2.06-.94L8.5 2.5l-.94 2.06-2.06.94zm10 10l.94 2.06.94-2.06 2.06-.94-2.06-.94-.94-2.06-.94 2.06-2.06.94z\"/><path d=\"M17.41 7.96l-1.37-1.37c-.4-.4-.92-.59-1.43-.59-.52 0-1.04.2-1.43.59L10.3 9.45l-7.72 7.72c-.78.78-.78 2.05 0 2.83L4 21.41c.39.39.9.59 1.41.59.51 0 1.02-.2 1.41-.59l7.78-7.78 2.81-2.81c.8-.78.8-2.07 0-2.86zM5.41 20L4 18.59l7.72-7.72 1.47 1.35L5.41 20z\"/>\n",
              "  </svg>\n",
              "      </button>\n",
              "      \n",
              "  <style>\n",
              "    .colab-df-container {\n",
              "      display:flex;\n",
              "      flex-wrap:wrap;\n",
              "      gap: 12px;\n",
              "    }\n",
              "\n",
              "    .colab-df-convert {\n",
              "      background-color: #E8F0FE;\n",
              "      border: none;\n",
              "      border-radius: 50%;\n",
              "      cursor: pointer;\n",
              "      display: none;\n",
              "      fill: #1967D2;\n",
              "      height: 32px;\n",
              "      padding: 0 0 0 0;\n",
              "      width: 32px;\n",
              "    }\n",
              "\n",
              "    .colab-df-convert:hover {\n",
              "      background-color: #E2EBFA;\n",
              "      box-shadow: 0px 1px 2px rgba(60, 64, 67, 0.3), 0px 1px 3px 1px rgba(60, 64, 67, 0.15);\n",
              "      fill: #174EA6;\n",
              "    }\n",
              "\n",
              "    [theme=dark] .colab-df-convert {\n",
              "      background-color: #3B4455;\n",
              "      fill: #D2E3FC;\n",
              "    }\n",
              "\n",
              "    [theme=dark] .colab-df-convert:hover {\n",
              "      background-color: #434B5C;\n",
              "      box-shadow: 0px 1px 3px 1px rgba(0, 0, 0, 0.15);\n",
              "      filter: drop-shadow(0px 1px 2px rgba(0, 0, 0, 0.3));\n",
              "      fill: #FFFFFF;\n",
              "    }\n",
              "  </style>\n",
              "\n",
              "      <script>\n",
              "        const buttonEl =\n",
              "          document.querySelector('#df-4bf47370-68fd-44e3-97bf-29f7fed2c028 button.colab-df-convert');\n",
              "        buttonEl.style.display =\n",
              "          google.colab.kernel.accessAllowed ? 'block' : 'none';\n",
              "\n",
              "        async function convertToInteractive(key) {\n",
              "          const element = document.querySelector('#df-4bf47370-68fd-44e3-97bf-29f7fed2c028');\n",
              "          const dataTable =\n",
              "            await google.colab.kernel.invokeFunction('convertToInteractive',\n",
              "                                                     [key], {});\n",
              "          if (!dataTable) return;\n",
              "\n",
              "          const docLinkHtml = 'Like what you see? Visit the ' +\n",
              "            '<a target=\"_blank\" href=https://colab.research.google.com/notebooks/data_table.ipynb>data table notebook</a>'\n",
              "            + ' to learn more about interactive tables.';\n",
              "          element.innerHTML = '';\n",
              "          dataTable['output_type'] = 'display_data';\n",
              "          await google.colab.output.renderOutput(dataTable, element);\n",
              "          const docLink = document.createElement('div');\n",
              "          docLink.innerHTML = docLinkHtml;\n",
              "          element.appendChild(docLink);\n",
              "        }\n",
              "      </script>\n",
              "    </div>\n",
              "  </div>\n",
              "  "
            ]
          },
          "metadata": {},
          "execution_count": 128
        }
      ]
    },
    {
      "cell_type": "markdown",
      "source": [
        "This time, we will focus on the `seaborn` library - a framework built on top of the `matplotlib`. In fact `seaborn` is a nice collection of figure templates, that are fairly customizable.\n",
        "\n",
        "[0.75] Look through the [seaborn](https://seaborn.pydata.org/) documenation and find a function that will give produce the figure below:"
      ],
      "metadata": {
        "id": "5Dsm6L_0WtZc"
      }
    },
    {
      "cell_type": "code",
      "source": [
        "from matplotlib.pylab import title\n",
        "import seaborn as sns\n",
        "\n",
        "# Plot the data\n",
        "cluster = expr.transpose()\n",
        "\n",
        "# Disable x axis labels\n",
        "# hint: cluster.ax_heatmap is a simple matplotlib axis instance\n",
        "map=sns.clustermap(pd.DataFrame(StandardScaler().fit_transform(cluster).T,columns=numcols))\n",
        "\n",
        "# Add figure title\n",
        "# hint: cluster.figure is a simple matplotlib figure\n",
        "plt.title('Expression of top 250 genes', loc='left', fontweight = 'bold',fontsize=20)"
      ],
      "metadata": {
        "colab": {
          "base_uri": "https://localhost:8080/",
          "height": 764
        },
        "id": "y6V2K-RWWszF",
        "outputId": "ca76a07a-5bf5-480d-e380-692590cf9f6f"
      },
      "execution_count": null,
      "outputs": [
        {
          "output_type": "execute_result",
          "data": {
            "text/plain": [
              "Text(0.0, 1.0, 'Expression of top 250 genes')"
            ]
          },
          "metadata": {},
          "execution_count": 138
        },
        {
          "output_type": "display_data",
          "data": {
            "text/plain": [
              "<Figure size 720x720 with 4 Axes>"
            ],
            "image/png": "[encoded data removed]"
          },
          "metadata": {
            "needs_background": "light"
          }
        }
      ]
    },
    {
      "cell_type": "markdown",
      "source": [
        "This is a nice example of variability that can be observed in real world biological data. However, in most cases such difference is not significant and just a random noise. Otherwise... It's useless.\n",
        "\n",
        "[0.25] For what popular RNA-seq analysis would such a figure be good supporting evidence? Insert an example image (using the link).\n",
        "Cluster analysis [1](https://www.ncbi.nlm.nih.gov/pmc/articles/PMC7074978/figure/microorganisms-08-00295-f003/)"
      ],
      "metadata": {
        "id": "6kHGlZvsT-NG"
      }
    },
    {
      "cell_type": "markdown",
      "source": [
        "# Extra points [2]\n",
        "\n",
        "RNA-seq analysis is a trending topic in the literature. To get extra point you need to:\n",
        "1. Find a publication that used RNA sequencing to study the cellular transcriptome.\n",
        "2. [0.5] Briefly describe the purpose of the study and the experiment in particular\n",
        "3. [1] Select the figure of your choice in this study and reproduce it as accurately as possible\n",
        "\n",
        "Hint: look for publications that present so-called source (raw) data, i.e. the data on which the figures are based.\n",
        "\n"
      ],
      "metadata": {
        "id": "3XDt314Pk-nq"
      }
    },
    {
      "cell_type": "code",
      "source": [],
      "metadata": {
        "id": "1Dn55M4BQqOt"
      },
      "execution_count": null,
      "outputs": []
    }
  ]
}